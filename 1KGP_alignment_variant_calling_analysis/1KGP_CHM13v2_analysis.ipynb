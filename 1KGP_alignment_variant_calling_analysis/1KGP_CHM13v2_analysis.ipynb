{
 "cells": [
  {
   "cell_type": "markdown",
   "metadata": {},
   "source": [
    "# Analysis of CHM13v2 alignment and variant calling"
   ]
  },
  {
   "cell_type": "markdown",
   "metadata": {},
   "source": [
    "## Set-up"
   ]
  },
  {
   "cell_type": "markdown",
   "metadata": {},
   "source": [
    "### Import libraries"
   ]
  },
  {
   "cell_type": "code",
   "execution_count": 1,
   "metadata": {},
   "outputs": [],
   "source": [
    "import pandas as pd\n",
    "import matplotlib.pyplot as plt\n",
    "import matplotlib.font_manager as fm\n",
    "import seaborn as sns\n",
    "import numpy as np\n",
    "import gzip\n",
    "import warnings\n",
    "warnings.filterwarnings( \"ignore\", module = \"seaborn\\..*\" )"
   ]
  },
  {
   "cell_type": "markdown",
   "metadata": {},
   "source": [
    "### Set project directory"
   ]
  },
  {
   "cell_type": "code",
   "execution_count": 2,
   "metadata": {},
   "outputs": [],
   "source": [
    "projectDir = '/home/jupyter/CHM13v2_analysis'\n",
    "dataDir = f'{projectDir}/data'\n",
    "figDir = f'{projectDir}/figures'"
   ]
  },
  {
   "cell_type": "markdown",
   "metadata": {},
   "source": [
    "### Download Data"
   ]
  },
  {
   "cell_type": "markdown",
   "metadata": {},
   "source": [
    "### Set plotting parameters"
   ]
  },
  {
   "cell_type": "code",
   "execution_count": 3,
   "metadata": {},
   "outputs": [],
   "source": [
    "mm = 1/25.4\n",
    "plt.rcParams['figure.figsize'] = [48*mm, 32*mm]\n",
    "plt.rcParams['svg.fonttype'] = 'path'\n",
    "plt.style.use('ggplot')\n",
    "\n",
    "production_size=5\n",
    "\n",
    "font = fm.FontEntry(fname=f'{projectDir}/Helvetica.ttf', size=5.0, name='Helvetica')\n",
    "fm.fontManager.ttflist.insert(0, font)\n",
    "plt.rcParams['font.family'] = font.name\n",
    "plt.rc('font', size=production_size)          # controls default text sizes\n",
    "plt.rc('axes', titlesize=6)     # fontsize of the axes title\n",
    "plt.rc('axes', labelsize=production_size)    # fontsize of the x and y labels\n",
    "plt.rc('xtick', labelsize=production_size)    # fontsize of the tick labels\n",
    "plt.rc('ytick', labelsize=production_size)    # fontsize of the tick labels\n",
    "plt.rc('legend', fontsize=production_size/4)    # legend fontsize\n",
    "plt.rc('figure', titlesize=6)  # fontsize of the figure title\n",
    "plt.rcParams['lines.linewidth'] = 0.3\n",
    "plt.rcParams['xtick.major.width'] = 0.2\n",
    "plt.rcParams['xtick.minor.width'] = 0.2\n",
    "plt.rcParams['ytick.major.width'] = 0.2\n",
    "plt.rcParams['ytick.minor.width'] = 0.2\n",
    "plt.rcParams['xtick.major.pad'] = 1\n",
    "plt.rcParams['xtick.minor.pad'] = 1\n",
    "plt.rcParams['ytick.major.pad'] = 1\n",
    "plt.rcParams['ytick.minor.pad'] = 1\n",
    "plt.rcParams['xtick.major.size'] = 2\n",
    "plt.rcParams['xtick.minor.size'] = 2\n",
    "plt.rcParams['ytick.major.size'] = 2\n",
    "plt.rcParams['ytick.minor.size'] = 2\n",
    "plt.rcParams['grid.linewidth'] = 0.2\n",
    "plt.rcParams['lines.markersize'] = 0.8\n",
    "plt.rcParams['lines.markeredgewidth'] = 0.3\n",
    "plt.rcParams['boxplot.flierprops.markersize'] = 0.8\n",
    "plt.rcParams['boxplot.flierprops.markeredgewidth'] = 0.3\n",
    "plt.rcParams['boxplot.flierprops.linewidth'] = 0.3\n",
    "\n",
    "flierprops = dict(marker='o', markerfacecolor='None', markersize=1,  markeredgecolor='black', markeredgewidth=0.3)\n",
    "\n",
    "chm13_v1_color = '#FF7F0E'\n",
    "chm13_v2_color = '#BA324F'\n",
    "genome_palette = {'CHM13v1': chm13_v1_color, 'CHM13v2': chm13_v2_color, 'GRCh38': chm13_v1_color}\n",
    "\n",
    "AFR_color = 'tab:cyan'\n",
    "AMR_color = 'tab:orange'\n",
    "EAS_color = 'tab:pink'\n",
    "EUR_color = 'tab:blue'\n",
    "SAS_color = 'tab:cyan'\n",
    "superpop_palette = {'AFR': AFR_color,\n",
    "                    'AMR': AMR_color,\n",
    "                    'EAS': EAS_color,\n",
    "                    'EUR': EUR_color,\n",
    "                    'SAS': SAS_color}"
   ]
  },
  {
   "cell_type": "markdown",
   "metadata": {},
   "source": [
    "### Read-in sample info"
   ]
  },
  {
   "cell_type": "code",
   "execution_count": 4,
   "metadata": {
    "scrolled": false
   },
   "outputs": [
    {
     "data": {
      "text/html": [
       "<div>\n",
       "<style scoped>\n",
       "    .dataframe tbody tr th:only-of-type {\n",
       "        vertical-align: middle;\n",
       "    }\n",
       "\n",
       "    .dataframe tbody tr th {\n",
       "        vertical-align: top;\n",
       "    }\n",
       "\n",
       "    .dataframe thead th {\n",
       "        text-align: right;\n",
       "    }\n",
       "</style>\n",
       "<table border=\"1\" class=\"dataframe\">\n",
       "  <thead>\n",
       "    <tr style=\"text-align: right;\">\n",
       "      <th></th>\n",
       "      <th>karyotype</th>\n",
       "      <th>superpopulation</th>\n",
       "      <th>population</th>\n",
       "      <th>Y_haplogroup</th>\n",
       "      <th>unrelated</th>\n",
       "    </tr>\n",
       "    <tr>\n",
       "      <th>1KGP_sample_id</th>\n",
       "      <th></th>\n",
       "      <th></th>\n",
       "      <th></th>\n",
       "      <th></th>\n",
       "      <th></th>\n",
       "    </tr>\n",
       "  </thead>\n",
       "  <tbody>\n",
       "    <tr>\n",
       "      <th>HG00096</th>\n",
       "      <td>XY</td>\n",
       "      <td>EUR</td>\n",
       "      <td>GBR</td>\n",
       "      <td>R1b</td>\n",
       "      <td>True</td>\n",
       "    </tr>\n",
       "    <tr>\n",
       "      <th>HG00097</th>\n",
       "      <td>XX</td>\n",
       "      <td>EUR</td>\n",
       "      <td>GBR</td>\n",
       "      <td>None</td>\n",
       "      <td>True</td>\n",
       "    </tr>\n",
       "    <tr>\n",
       "      <th>HG00099</th>\n",
       "      <td>XX</td>\n",
       "      <td>EUR</td>\n",
       "      <td>GBR</td>\n",
       "      <td>None</td>\n",
       "      <td>True</td>\n",
       "    </tr>\n",
       "    <tr>\n",
       "      <th>HG00100</th>\n",
       "      <td>XX</td>\n",
       "      <td>EUR</td>\n",
       "      <td>GBR</td>\n",
       "      <td>None</td>\n",
       "      <td>True</td>\n",
       "    </tr>\n",
       "    <tr>\n",
       "      <th>HG00101</th>\n",
       "      <td>XY</td>\n",
       "      <td>EUR</td>\n",
       "      <td>GBR</td>\n",
       "      <td>I1</td>\n",
       "      <td>True</td>\n",
       "    </tr>\n",
       "    <tr>\n",
       "      <th>...</th>\n",
       "      <td>...</td>\n",
       "      <td>...</td>\n",
       "      <td>...</td>\n",
       "      <td>...</td>\n",
       "      <td>...</td>\n",
       "    </tr>\n",
       "    <tr>\n",
       "      <th>NA21137</th>\n",
       "      <td>XX</td>\n",
       "      <td>SAS</td>\n",
       "      <td>GIH</td>\n",
       "      <td>None</td>\n",
       "      <td>True</td>\n",
       "    </tr>\n",
       "    <tr>\n",
       "      <th>NA21141</th>\n",
       "      <td>XX</td>\n",
       "      <td>SAS</td>\n",
       "      <td>GIH</td>\n",
       "      <td>None</td>\n",
       "      <td>True</td>\n",
       "    </tr>\n",
       "    <tr>\n",
       "      <th>NA21142</th>\n",
       "      <td>XX</td>\n",
       "      <td>SAS</td>\n",
       "      <td>GIH</td>\n",
       "      <td>None</td>\n",
       "      <td>True</td>\n",
       "    </tr>\n",
       "    <tr>\n",
       "      <th>NA21143</th>\n",
       "      <td>XX</td>\n",
       "      <td>SAS</td>\n",
       "      <td>GIH</td>\n",
       "      <td>None</td>\n",
       "      <td>True</td>\n",
       "    </tr>\n",
       "    <tr>\n",
       "      <th>NA21144</th>\n",
       "      <td>XX</td>\n",
       "      <td>SAS</td>\n",
       "      <td>GIH</td>\n",
       "      <td>None</td>\n",
       "      <td>True</td>\n",
       "    </tr>\n",
       "  </tbody>\n",
       "</table>\n",
       "<p>3202 rows × 5 columns</p>\n",
       "</div>"
      ],
      "text/plain": [
       "               karyotype superpopulation population Y_haplogroup  unrelated\n",
       "1KGP_sample_id                                                             \n",
       "HG00096               XY             EUR        GBR          R1b       True\n",
       "HG00097               XX             EUR        GBR         None       True\n",
       "HG00099               XX             EUR        GBR         None       True\n",
       "HG00100               XX             EUR        GBR         None       True\n",
       "HG00101               XY             EUR        GBR           I1       True\n",
       "...                  ...             ...        ...          ...        ...\n",
       "NA21137               XX             SAS        GIH         None       True\n",
       "NA21141               XX             SAS        GIH         None       True\n",
       "NA21142               XX             SAS        GIH         None       True\n",
       "NA21143               XX             SAS        GIH         None       True\n",
       "NA21144               XX             SAS        GIH         None       True\n",
       "\n",
       "[3202 rows x 5 columns]"
      ]
     },
     "execution_count": 4,
     "metadata": {},
     "output_type": "execute_result"
    }
   ],
   "source": [
    "sample_info_file = f\"{dataDir}/1KGP_sample_info.txt.gz\"\n",
    "sample_info_df = pd.read_csv(sample_info_file, sep='\\t', header=0, index_col=0)\n",
    "sample_info_df"
   ]
  },
  {
   "cell_type": "code",
   "execution_count": 5,
   "metadata": {},
   "outputs": [],
   "source": [
    "unrelated_samples = list(sample_info_df.loc[sample_info_df['unrelated']==True].index)\n",
    "XY_unrelated_samples = list(sample_info_df.loc[(sample_info_df['unrelated']==True) & (sample_info_df['karyotype']=='XY')].index)\n",
    "XX_unrelated_samples = list(sample_info_df.loc[(sample_info_df['unrelated']==True) & (sample_info_df['karyotype']=='XX')].index)"
   ]
  },
  {
   "cell_type": "markdown",
   "metadata": {},
   "source": [
    "\n",
    "# chrY Alignment Statistics"
   ]
  },
  {
   "cell_type": "markdown",
   "metadata": {},
   "source": [
    "Y chromosome alignment statistics were generated for each unrelated XY sample separately. Individual sample statistics were then merged into a single file. The command to generate chrY stats for a single sample is as follows: `samtools stats -r CHM13v2.0.XY.fasta --reference CHM13v2.0.XY.fasta -X {sample}.cram {sample}.cram.crai chrY`."
   ]
  },
  {
   "cell_type": "code",
   "execution_count": 6,
   "metadata": {},
   "outputs": [],
   "source": [
    "# Get a dataframe with chrY alignment statistics for unrelated XY samples\n",
    "def cramstatsDF(file_name, ref):\n",
    "    cramstats_df = pd.read_csv(file_name, sep='\\t', header=0, index_col=0)\n",
    "    cramstats_df = cramstats_df.loc[XY_unrelated_samples]\n",
    "    cramstats_df['Superpopulation'] = sample_info_df.loc[XY_unrelated_samples, 'superpopulation']\n",
    "    cramstats_df['ref'] = ref\n",
    "    cramstats_df['reads mapped scaled'] = cramstats_df['reads mapped']/1_000_000\n",
    "    cramstats_df['error rate (%)'] = cramstats_df['error rate'] * 100\n",
    "    \n",
    "    return cramstats_df"
   ]
  },
  {
   "cell_type": "code",
   "execution_count": 7,
   "metadata": {},
   "outputs": [],
   "source": [
    "def printCramStats(stat, CHM13v1DF, CHM13v2DF):\n",
    "    \n",
    "    CHM13v1_reads_mapped = CHM13v1DF[stat]\n",
    "    CHM13v2_reads_mapped = CHM13v2DF[stat]\n",
    "    delta_reads_mapped = CHM13v2DF[stat] - CHM13v1DF[stat]\n",
    "\n",
    "    print(f'CHM13v1 mean reads mapped {stat}:', np.mean(CHM13v1_reads_mapped))\n",
    "    print(f'CHM13v1 stddev reads mapped {stat}:', np.std(CHM13v1_reads_mapped))\n",
    "    print('')\n",
    "    print(f'CHM13v2 mean reads mapped {stat}:', np.mean(CHM13v2_reads_mapped))\n",
    "    print(f'CHM13v2 stddev reads mapped {stat}:', np.std(CHM13v2_reads_mapped))\n",
    "    print('')\n",
    "    print(f'CHM13v2 - CHM13v1 mean {stat}:', np.mean(delta_reads_mapped))\n",
    "    print(f'CHM13v2 - CHM13v1 stddev {stat}:', np.std(delta_reads_mapped))"
   ]
  },
  {
   "cell_type": "code",
   "execution_count": 8,
   "metadata": {},
   "outputs": [],
   "source": [
    "CHM13v1_full_cramstats_file = f\"{dataDir}/cramstats/CHM13v1_stats.all.txt\" # This file has stats for all 3202 samples, full chromosome, no PAR\n",
    "CHM13v2_full_cramstats_file = f\"{dataDir}/cramstats/CHM13v2_stats.all.txt\" # This file has stats for all 3202 samples, full chromosome, no PAR\n",
    "\n",
    "CHM13v1_full_cramstats_df = cramstatsDF(CHM13v1_full_cramstats_file, 'CHM13v1')\n",
    "CHM13v2_full_cramstats_df = cramstatsDF(CHM13v2_full_cramstats_file, 'CHM13v2')"
   ]
  },
  {
   "cell_type": "markdown",
   "metadata": {},
   "source": [
    "## chrY Full (full chromosome, no PAR, unrelated samples only)"
   ]
  },
  {
   "cell_type": "code",
   "execution_count": 9,
   "metadata": {},
   "outputs": [],
   "source": [
    "full_cramstats_df = pd.concat([CHM13v1_full_cramstats_df, CHM13v2_full_cramstats_df], axis=0)\n",
    "full_cramstats_df_copy = full_cramstats_df.copy()\n",
    "full_cramstats_df_copy['Superpopulation'] = 'ALL'\n",
    "full_cramstats_df = pd.concat([full_cramstats_df, full_cramstats_df_copy], axis=0)"
   ]
  },
  {
   "cell_type": "markdown",
   "metadata": {},
   "source": [
    "### Reads Mapped"
   ]
  },
  {
   "cell_type": "markdown",
   "metadata": {},
   "source": [
    "#### Stats summary"
   ]
  },
  {
   "cell_type": "code",
   "execution_count": 10,
   "metadata": {},
   "outputs": [
    {
     "name": "stdout",
     "output_type": "stream",
     "text": [
      "CHM13v1 mean reads mapped reads mapped: 5012971.00405515\n",
      "CHM13v1 stddev reads mapped reads mapped: 745339.8381239614\n",
      "\n",
      "CHM13v2 mean reads mapped reads mapped: 6396203.642335766\n",
      "CHM13v2 stddev reads mapped reads mapped: 1120238.0908331873\n",
      "\n",
      "CHM13v2 - CHM13v1 mean reads mapped: 1383232.6382806164\n",
      "CHM13v2 - CHM13v1 stddev reads mapped: 432115.22462021967\n"
     ]
    }
   ],
   "source": [
    "stat = 'reads mapped'\n",
    "printCramStats(stat, CHM13v1_full_cramstats_df, CHM13v2_full_cramstats_df)"
   ]
  },
  {
   "cell_type": "markdown",
   "metadata": {},
   "source": [
    "#### Plotting"
   ]
  },
  {
   "cell_type": "code",
   "execution_count": 11,
   "metadata": {},
   "outputs": [
    {
     "data": {
      "image/png": "[encoded data removed]",
      "text/plain": [
       "<Figure size 136.063x90.7087 with 1 Axes>"
      ]
     },
     "metadata": {},
     "output_type": "display_data"
    }
   ],
   "source": [
    "ax = sns.violinplot(x = \"Superpopulation\",\n",
    "                    y = \"reads mapped scaled\",\n",
    "                    hue=\"ref\",\n",
    "                    order=['AFR', 'AMR', 'EAS', 'EUR', 'SAS', 'ALL'],\n",
    "                    palette=genome_palette,\n",
    "                    data=full_cramstats_df,\n",
    "                    split=True,\n",
    "                    inner=\"quartile\")\n",
    "\n",
    "ax.set_title(r'Reads Mapped ($10^6$): chrY')\n",
    "ax.set_ylabel('')\n",
    "ax.set_xlabel('')\n",
    "ax.legend_.remove()\n",
    "plt.tight_layout()\n",
    "plt.savefig(f'{figDir}/chrY.reads_mapped.all.unrelated.pdf')\n",
    "plt.show()"
   ]
  },
  {
   "cell_type": "markdown",
   "metadata": {},
   "source": [
    "### Reads Properly Paired"
   ]
  },
  {
   "cell_type": "markdown",
   "metadata": {},
   "source": [
    "#### Stats summary"
   ]
  },
  {
   "cell_type": "code",
   "execution_count": 12,
   "metadata": {},
   "outputs": [
    {
     "name": "stdout",
     "output_type": "stream",
     "text": [
      "CHM13v1 mean reads mapped percentage of properly paired reads (%): 96.96609894566099\n",
      "CHM13v1 stddev reads mapped percentage of properly paired reads (%): 1.476768719987885\n",
      "\n",
      "CHM13v2 mean reads mapped percentage of properly paired reads (%): 98.40300081103\n",
      "CHM13v2 stddev reads mapped percentage of properly paired reads (%): 0.32724227676772943\n",
      "\n",
      "CHM13v2 - CHM13v1 mean percentage of properly paired reads (%): 1.4369018653690184\n",
      "CHM13v2 - CHM13v1 stddev percentage of properly paired reads (%): 1.4165087832805259\n"
     ]
    }
   ],
   "source": [
    "stat = 'percentage of properly paired reads (%)'\n",
    "printCramStats(stat, CHM13v1_full_cramstats_df, CHM13v2_full_cramstats_df)"
   ]
  },
  {
   "cell_type": "markdown",
   "metadata": {},
   "source": [
    "#### Plotting (violin)"
   ]
  },
  {
   "cell_type": "code",
   "execution_count": 13,
   "metadata": {
    "scrolled": false
   },
   "outputs": [
    {
     "data": {
      "image/png": "[encoded data removed]",
      "text/plain": [
       "<Figure size 136.063x90.7087 with 1 Axes>"
      ]
     },
     "metadata": {},
     "output_type": "display_data"
    }
   ],
   "source": [
    "ax = sns.violinplot(x = \"Superpopulation\",\n",
    "                    y = 'percentage of properly paired reads (%)',\n",
    "                    hue=\"ref\",\n",
    "                    order=['AFR', 'AMR', 'EAS', 'EUR', 'SAS', 'ALL'],\n",
    "                    palette=genome_palette,\n",
    "                    data=full_cramstats_df,\n",
    "                    split=True,\n",
    "                    inner=\"quartile\")\n",
    "\n",
    "ax.set_title('Reads properly paired (%): chrY')\n",
    "ax.set_ylabel('')\n",
    "ax.set_xlabel('')\n",
    "ax.legend_.remove()\n",
    "plt.savefig(f'{figDir}/chrY.pct_reads_prop_paired.violin.all.unrelated.pdf')\n",
    "plt.show()"
   ]
  },
  {
   "cell_type": "markdown",
   "metadata": {},
   "source": [
    "#### Plotting (box)"
   ]
  },
  {
   "cell_type": "code",
   "execution_count": 14,
   "metadata": {},
   "outputs": [
    {
     "data": {
      "image/png": "[encoded data removed]",
      "text/plain": [
       "<Figure size 136.063x90.7087 with 1 Axes>"
      ]
     },
     "metadata": {},
     "output_type": "display_data"
    }
   ],
   "source": [
    "ax = sns.boxplot(x = \"Superpopulation\",\n",
    "                    y = 'percentage of properly paired reads (%)',\n",
    "                    hue=\"ref\",\n",
    "                    order=['AFR', 'AMR', 'EAS', 'EUR', 'SAS', 'ALL'],\n",
    "                    palette=genome_palette,\n",
    "                    data=full_cramstats_df,\n",
    "                    flierprops=flierprops)\n",
    "\n",
    "ax.set_title('Reads properly paired (%): chrY')\n",
    "ax.set_ylabel('')\n",
    "ax.set_xlabel('')\n",
    "ax.legend_.remove()\n",
    "plt.savefig(f'{figDir}/chrY.pct_reads_prop_paired.boxplot.all.unrelated.pdf')\n",
    "plt.show()"
   ]
  },
  {
   "cell_type": "markdown",
   "metadata": {},
   "source": [
    "### Mismatch Rate"
   ]
  },
  {
   "cell_type": "markdown",
   "metadata": {},
   "source": [
    "#### Stats summary"
   ]
  },
  {
   "cell_type": "code",
   "execution_count": 15,
   "metadata": {},
   "outputs": [
    {
     "name": "stdout",
     "output_type": "stream",
     "text": [
      "CHM13v1 mean reads mapped error rate (%): 0.9089546482562854\n",
      "CHM13v1 stddev reads mapped error rate (%): 0.08141374958944464\n",
      "\n",
      "CHM13v2 mean reads mapped error rate (%): 0.34620064209245743\n",
      "CHM13v2 stddev reads mapped error rate (%): 0.058144390015914225\n",
      "\n",
      "CHM13v2 - CHM13v1 mean error rate (%): -0.5627540061638281\n",
      "CHM13v2 - CHM13v1 stddev error rate (%): 0.06253140018872733\n"
     ]
    }
   ],
   "source": [
    "stat = 'error rate (%)'\n",
    "printCramStats(stat, CHM13v1_full_cramstats_df, CHM13v2_full_cramstats_df)"
   ]
  },
  {
   "cell_type": "markdown",
   "metadata": {},
   "source": [
    "#### Plotting"
   ]
  },
  {
   "cell_type": "code",
   "execution_count": 16,
   "metadata": {
    "scrolled": false
   },
   "outputs": [
    {
     "data": {
      "image/png": "[encoded data removed]",
      "text/plain": [
       "<Figure size 136.063x90.7087 with 1 Axes>"
      ]
     },
     "metadata": {},
     "output_type": "display_data"
    }
   ],
   "source": [
    "ax = sns.violinplot(x = \"Superpopulation\",\n",
    "                    y = 'error rate (%)',\n",
    "                    hue=\"ref\",\n",
    "                    order=['AFR', 'AMR', 'EAS', 'EUR', 'SAS', 'ALL'],\n",
    "                    palette=genome_palette,\n",
    "                    data=full_cramstats_df,\n",
    "                    split=True,\n",
    "                   inner='quartile')\n",
    "\n",
    "ax.set_title('Mismatch rate (%): chrY')\n",
    "ax.set_ylabel('')\n",
    "ax.set_xlabel('')\n",
    "ax.legend_.remove()\n",
    "plt.savefig(f'{figDir}/chrY.mismatch_rate.all.unrelated.pdf')\n",
    "plt.show()"
   ]
  },
  {
   "cell_type": "markdown",
   "metadata": {},
   "source": [
    "# chrY Variant Calling Statistics"
   ]
  },
  {
   "cell_type": "markdown",
   "metadata": {},
   "source": [
    "Variant calling stats were generated using `bcftools stats` with the final VCFs, subsetting to only the Y chromosome. This was done for both references."
   ]
  },
  {
   "cell_type": "code",
   "execution_count": 17,
   "metadata": {},
   "outputs": [],
   "source": [
    "def vcfstatsDF(file_name, ref):\n",
    "    vcfstats_df = pd.DataFrame(columns=['sample_id', 'nRefHom', 'nNonRefHom', 'nHets', 'nTransitions', 'nTransversions', 'nIndels', 'average depth', 'nSingletons', 'nHapRef', 'nHapAlt', 'nMissing'])\n",
    "    for line in open(file_name):\n",
    "        if not line.startswith('PSC'):\n",
    "            continue\n",
    "        fields = line.rstrip('\\n').split('\\t')[2:]\n",
    "        sample_info = [fields[0]] + [float(x) for x in fields[1:]]\n",
    "        vcfstats_df.loc[len(vcfstats_df)] = sample_info\n",
    "    \n",
    "    vcfstats_df.set_index('sample_id', inplace=True)\n",
    "    vcfstats_df['RefName'] = ref\n",
    "    vcfstats_df['Superpopulation'] = sample_info_df.loc[XY_unrelated_samples, 'superpopulation']\n",
    "    vcfstats_df['haplogroup'] = sample_info_df.loc[XY_unrelated_samples, 'Y_haplogroup']\n",
    "    vcfstats_df['nVariants'] = vcfstats_df.loc[:, ['nNonRefHom', 'nHets', 'nIndels', 'nHapAlt']].sum(axis=1)\n",
    "    \n",
    "    return vcfstats_df"
   ]
  },
  {
   "cell_type": "markdown",
   "metadata": {},
   "source": [
    "## chrY Full (full chromosome, no PAR, unrelated samples only)"
   ]
  },
  {
   "cell_type": "code",
   "execution_count": 18,
   "metadata": {},
   "outputs": [],
   "source": [
    "CHM13v1_full_vcfstats_file = f\"{dataDir}/vcfstats/chrY.CHM13v1.unrelated.bcftools.stats.txt\"\n",
    "CHM13v2_full_vcfstats_file = f\"{dataDir}/vcfstats/chrY.CHM13v2.unrelated.bcftools.stats.txt\"\n",
    "\n",
    "CHM13v1_full_vcfstats_df = vcfstatsDF(CHM13v1_full_vcfstats_file, 'CHM13v1')\n",
    "CHM13v2_full_vcfstats_df = vcfstatsDF(CHM13v2_full_vcfstats_file, 'CHM13v2')\n",
    "\n",
    "full_vcfstats_df = pd.concat([CHM13v1_full_vcfstats_df, CHM13v2_full_vcfstats_df], axis=0)\n",
    "full_vcfstats_df_copy = full_vcfstats_df.copy()\n",
    "full_vcfstats_df_copy['Superpopulation'] = 'ALL'\n",
    "full_vcfstats_df = pd.concat([full_vcfstats_df, full_vcfstats_df_copy], axis=0)"
   ]
  },
  {
   "cell_type": "markdown",
   "metadata": {},
   "source": [
    "### Number of Variants (Superpopulation)"
   ]
  },
  {
   "cell_type": "markdown",
   "metadata": {},
   "source": [
    "#### Plotting"
   ]
  },
  {
   "cell_type": "code",
   "execution_count": 19,
   "metadata": {},
   "outputs": [
    {
     "data": {
      "image/png": "[encoded data removed]",
      "text/plain": [
       "<Figure size 136.063x90.7087 with 1 Axes>"
      ]
     },
     "metadata": {},
     "output_type": "display_data"
    }
   ],
   "source": [
    "ax = sns.violinplot(x = \"Superpopulation\",\n",
    "                    y = 'nVariants',\n",
    "                    hue=\"RefName\",\n",
    "                    order=['AFR', 'AMR', 'EAS', 'EUR', 'SAS', 'ALL'],\n",
    "                    palette=genome_palette,\n",
    "                    data=full_vcfstats_df,\n",
    "                    split=True,\n",
    "                    inner=\"quartile\")\n",
    "\n",
    "ax.set_title('Variants per sample: chrY')\n",
    "ax.set_ylabel('')\n",
    "ax.set_xlabel('')\n",
    "ax.legend_.remove()\n",
    "plt.savefig(f'{figDir}/chrY.per-sample_variants.pops.all.unrelated.pdf')\n",
    "plt.show()"
   ]
  },
  {
   "cell_type": "markdown",
   "metadata": {},
   "source": [
    "## chrY Syntenic (syntenic regions only, no PAR, unrelated samples only)"
   ]
  },
  {
   "cell_type": "code",
   "execution_count": 20,
   "metadata": {},
   "outputs": [],
   "source": [
    "CHM13v1_syntenic_vcfstats_file = f\"{dataDir}/chrY_syntenic_variants/chrY.CHM13v1.unrelated.syntenic.bcftools.stats.txt\"\n",
    "CHM13v2_syntenic_vcfstats_file = f\"{dataDir}/chrY_syntenic_variants/chrY.CHM13v2.unrelated.syntenic.bcftools.stats.txt\"\n",
    "\n",
    "CHM13v1_syntenic_vcfstats_df = vcfstatsDF(CHM13v1_syntenic_vcfstats_file, 'CHM13v1')\n",
    "CHM13v2_syntenic_vcfstats_df = vcfstatsDF(CHM13v2_syntenic_vcfstats_file, 'CHM13v2')\n",
    "\n",
    "syntenic_vcfstats_df = pd.concat([CHM13v1_syntenic_vcfstats_df, CHM13v2_syntenic_vcfstats_df], axis=0)\n",
    "syntenic_vcfstats_df_copy = syntenic_vcfstats_df.copy()\n",
    "syntenic_vcfstats_df_copy['Superpopulation'] = 'ALL'\n",
    "syntenic_vcfstats_df = pd.concat([syntenic_vcfstats_df, syntenic_vcfstats_df_copy], axis=0)"
   ]
  },
  {
   "cell_type": "markdown",
   "metadata": {},
   "source": [
    "### Number of Variants (Superpopulation)"
   ]
  },
  {
   "cell_type": "markdown",
   "metadata": {},
   "source": [
    "#### Plotting"
   ]
  },
  {
   "cell_type": "code",
   "execution_count": 21,
   "metadata": {},
   "outputs": [
    {
     "data": {
      "image/png": "[encoded data removed]",
      "text/plain": [
       "<Figure size 136.063x90.7087 with 1 Axes>"
      ]
     },
     "metadata": {},
     "output_type": "display_data"
    }
   ],
   "source": [
    "ax = sns.violinplot(x = \"Superpopulation\",\n",
    "                    y = 'nVariants',\n",
    "                    hue=\"RefName\",\n",
    "                    order=['AFR', 'AMR', 'EAS', 'EUR', 'SAS', 'ALL'],\n",
    "                    palette=genome_palette,\n",
    "                    data=syntenic_vcfstats_df,\n",
    "                    split=True,\n",
    "                    inner=\"quartile\")\n",
    "\n",
    "ax.set_title('Variants per sample: chrY (syntenic)')\n",
    "ax.set_ylabel('')\n",
    "ax.set_xlabel('')\n",
    "ax.legend_.remove()\n",
    "plt.savefig(f'{figDir}/chrY.per-sample_variants.pops.syntenic.unrelated.pdf')\n",
    "plt.show()"
   ]
  },
  {
   "cell_type": "markdown",
   "metadata": {},
   "source": [
    "### Number of Variants (Haplogroup)"
   ]
  },
  {
   "cell_type": "markdown",
   "metadata": {},
   "source": [
    "#### Plotting (raw counts)"
   ]
  },
  {
   "cell_type": "code",
   "execution_count": 22,
   "metadata": {
    "scrolled": true
   },
   "outputs": [
    {
     "data": {
      "image/png": "[encoded data removed]",
      "text/plain": [
       "<Figure size 255.118x85.0394 with 1 Axes>"
      ]
     },
     "metadata": {},
     "output_type": "display_data"
    }
   ],
   "source": [
    "num_samples = CHM13v1_syntenic_vcfstats_df.shape[0]\n",
    "sorted_haplogroups = sorted(set(CHM13v1_syntenic_vcfstats_df['haplogroup']))\n",
    "\n",
    "fig, ax = plt.subplots(figsize=(90*mm,30*mm))\n",
    "\n",
    "for i in range(num_samples):\n",
    "    sample = CHM13v1_syntenic_vcfstats_df.index[i]\n",
    "    haplogroup = CHM13v1_syntenic_vcfstats_df.loc[sample, 'haplogroup']\n",
    "    CHM13v1_var_count = CHM13v1_syntenic_vcfstats_df.loc[sample, 'nVariants']\n",
    "    CHM13v2_var_count = CHM13v2_syntenic_vcfstats_df.loc[sample, 'nVariants']\n",
    "    x = sorted_haplogroups.index(haplogroup)\n",
    "    jitter = np.random.normal(0, 0.05)\n",
    "    x_v1 = x - 0.2 + jitter\n",
    "    x_v2 = x + 0.2 + jitter\n",
    "    ax.plot([x_v1, x_v2], [CHM13v1_var_count, CHM13v2_var_count], c='black', zorder=1, lw=0.1)\n",
    "    ax.scatter([x_v1], [CHM13v1_var_count], c=genome_palette['CHM13v1'], zorder=2, label='CHM13v1', s=0.2)\n",
    "    ax.scatter([x_v2], [CHM13v2_var_count], c=genome_palette['CHM13v2'], zorder=2, label='CHM13v2', s=0.2)\n",
    "\n",
    "ax.set_xticks([i for i in range(len(sorted_haplogroups))])\n",
    "ax.set_xticklabels(sorted_haplogroups, fontsize=3)\n",
    "\n",
    "for i in range(len(ax.get_xticklabels())-1):\n",
    "    current_x = ax.get_xticklabels()[i].get_position()[0]\n",
    "    next_x = ax.get_xticklabels()[i+1].get_position()[0]\n",
    "    avg_x = np.mean([current_x, next_x])\n",
    "    ax.axvline(x=avg_x, c='white', lw=0.4)\n",
    "\n",
    "ax.set_title('Variants per sample: chrY (syntentic)')\n",
    "ax.set_xlabel('Haplogroup')\n",
    "ax.set_ylabel('')\n",
    "handles, labels = plt.gca().get_legend_handles_labels()\n",
    "by_label = dict(sorted(zip(labels, handles), key=lambda x: x[0]))\n",
    "ax.legend(by_label.values(), by_label.keys(), facecolor='white', loc='upper right')\n",
    "ax.set_xlim([-0.5, len(sorted_haplogroups)-0.5])\n",
    "plt.tight_layout()\n",
    "fig.savefig(f'{figDir}/chrY.per-sample_variants.haplogroups.syntenic.unrelated.pdf')\n",
    "plt.show()"
   ]
  },
  {
   "cell_type": "markdown",
   "metadata": {},
   "source": [
    "#### Plotting (delta)"
   ]
  },
  {
   "cell_type": "code",
   "execution_count": 23,
   "metadata": {},
   "outputs": [],
   "source": [
    "chrY_syntenic_variants_diff_df = CHM13v1_syntenic_vcfstats_df.loc[:, ['haplogroup', 'Superpopulation']].copy()\n",
    "chrY_syntenic_variants_diff_df['delta_variants'] = CHM13v2_syntenic_vcfstats_df['nVariants'] - CHM13v1_syntenic_vcfstats_df['nVariants']"
   ]
  },
  {
   "cell_type": "code",
   "execution_count": 24,
   "metadata": {
    "scrolled": false
   },
   "outputs": [
    {
     "data": {
      "image/png": "[encoded data removed]",
      "text/plain": [
       "<Figure size 255.118x85.0394 with 1 Axes>"
      ]
     },
     "metadata": {},
     "output_type": "display_data"
    }
   ],
   "source": [
    "colors = [\"#AA4455\" if hap == 'R1b' else  \"#000000\" for hap in sorted_haplogroups]\n",
    "\n",
    "fig, ax = plt.subplots(figsize=(90*mm,30*mm))\n",
    "sns.swarmplot(x='haplogroup', y='delta_variants',\n",
    "              data=chrY_syntenic_variants_diff_df,\n",
    "              order=sorted_haplogroups,\n",
    "              palette=dict(zip(sorted_haplogroups, colors)),\n",
    "              ax=ax,\n",
    "              s=0.8,\n",
    "              dodge=True)\n",
    "\n",
    "ax.set_xticks([i for i in range(len(sorted_haplogroups))])\n",
    "ax.set_xticklabels(sorted_haplogroups, fontsize=3)\n",
    "    \n",
    "for i in range(len(ax.get_xticklabels())-1):\n",
    "    current_x = ax.get_xticklabels()[i].get_position()[0]\n",
    "    next_x = ax.get_xticklabels()[i+1].get_position()[0]\n",
    "    avg_x = np.mean([current_x, next_x])\n",
    "    ax.axvline(x=avg_x, c='white', lw=0.4, zorder=2)\n",
    "\n",
    "ax.axhline(y=0, c='black', lw=0.3, zorder=1)\n",
    "ax.set_ylabel('')\n",
    "ax.set_title('Δ variants per sample: chrY (syntentic)')\n",
    "ax.set_xlabel('Haplogroup')\n",
    "plt.tight_layout()\n",
    "fig.savefig(f'{figDir}/chrY.per-sample_variants_diff.swarmplot.haplogroups.syntenic.unrelated.pdf')\n",
    "plt.show()"
   ]
  },
  {
   "cell_type": "markdown",
   "metadata": {},
   "source": [
    "# chrX PAR Variant Calling Statistics"
   ]
  },
  {
   "cell_type": "markdown",
   "metadata": {},
   "source": [
    "As before, variant calling stats were generated using `bcftools stats` with the final VCFs, subsetting to only the X PAR region. This was done for both references.\n",
    "\n",
    "On CHM13v1, XY samples were called as haploid in the chrX PAR. Because of the way `bcftools stats` handles hemizygous indels, these variants are included in the counts of `hap` variants.  The PSI section is empty for haploid regions.\n",
    "\n",
    "On CHM13v2 howver, XY samples were called as diploid in the chrX PAR. Now, information about indels is in the PSI field, and so we have a separate function for counting indels for diploid regions."
   ]
  },
  {
   "cell_type": "code",
   "execution_count": 28,
   "metadata": {},
   "outputs": [],
   "source": [
    "def vcfstatsIndelDF(file_name, ref):\n",
    "    vcfstats_df = pd.DataFrame(columns=['sample_id', 'in-frame', 'out-frame', 'not applicable', 'out/(in+out) ratio', 'nInsHets', 'nDelHets', 'nInsAltHoms', 'nDelAltHoms'])\n",
    "    for line in open(file_name):\n",
    "        if not line.startswith('PSI'):\n",
    "            continue\n",
    "        fields = line.rstrip('\\n').split('\\t')[2:]\n",
    "        sample_info = [fields[0]] + [float(x) for x in fields[1:]]\n",
    "        vcfstats_df.loc[len(vcfstats_df)] = sample_info\n",
    "    \n",
    "    vcfstats_df.set_index('sample_id', inplace=True)\n",
    "    vcfstats_df['RefName'] = ref\n",
    "    vcfstats_df['Superpopulation'] = sample_info_df.loc[XY_unrelated_samples, 'superpopulation']\n",
    "    vcfstats_df['haplogroup'] = sample_info_df.loc[XY_unrelated_samples, 'Y_haplogroup']\n",
    "    vcfstats_df['nHets'] = vcfstats_df.loc[:, ['nInsHets', 'nDelHets']].sum(axis=1)\n",
    "    vcfstats_df['nAltHoms'] = vcfstats_df.loc[:, ['nInsAltHoms', 'nDelAltHoms']].sum(axis=1)\n",
    "    \n",
    "    return vcfstats_df"
   ]
  },
  {
   "cell_type": "markdown",
   "metadata": {},
   "source": [
    "## chrX PAR (unrelated XY samples only)"
   ]
  },
  {
   "cell_type": "markdown",
   "metadata": {},
   "source": [
    "### Number of variants"
   ]
  },
  {
   "cell_type": "code",
   "execution_count": 26,
   "metadata": {},
   "outputs": [],
   "source": [
    "CHM13v1_PAR_vcfstats_file = f\"{dataDir}/chrX_PAR_regions/chrX.CHM13v1.unrelated.PAR.bcfstats.txt\"\n",
    "CHM13v2_PAR_vcfstats_file = f\"{dataDir}/chrX_PAR_regions/chrX.CHM13v2.unrelated.PAR.bcfstats.txt\"\n",
    "\n",
    "CHM13v1_PAR_vcfstats_df = vcfstatsDF(CHM13v1_PAR_vcfstats_file, 'CHM13v1').loc[XY_unrelated_samples, :]\n",
    "CHM13v2_PAR_vcfstats_df = vcfstatsDF(CHM13v2_PAR_vcfstats_file, 'CHM13v2').loc[XY_unrelated_samples, :]\n",
    "\n",
    "CHM13v2_PAR_indel_vcfstats_df = vcfstatsIndelDF(CHM13v2_PAR_vcfstats_file, 'CHM13v2').loc[XY_unrelated_samples, :]\n",
    "\n",
    "PAR_vcfstats_df = pd.concat([CHM13v1_PAR_vcfstats_df, CHM13v2_PAR_vcfstats_df], axis=0)"
   ]
  },
  {
   "cell_type": "markdown",
   "metadata": {},
   "source": [
    "#### Plotting"
   ]
  },
  {
   "cell_type": "code",
   "execution_count": 27,
   "metadata": {},
   "outputs": [
    {
     "data": {
      "image/png": "[encoded data removed]",
      "text/plain": [
       "<Figure size 136.063x90.7087 with 2 Axes>"
      ]
     },
     "metadata": {},
     "output_type": "display_data"
    }
   ],
   "source": [
    "fig, (ax1, ax2) = plt.subplots(ncols=2, sharey=True)\n",
    "\n",
    "sns.violinplot(x = \"RefName\",\n",
    "               y = 'nVariants',\n",
    "               palette=genome_palette,\n",
    "               data=PAR_vcfstats_df,\n",
    "               inner=\"quartile\",\n",
    "               ax=ax1)\n",
    "\n",
    "sns.violinplot(data=[CHM13v2_PAR_vcfstats_df['nHets']+CHM13v2_PAR_indel_vcfstats_df['nHets'], CHM13v2_PAR_vcfstats_df['nNonRefHom']+CHM13v2_PAR_indel_vcfstats_df['nAltHoms']],\n",
    "               inner=\"quartile\",\n",
    "               color=chm13_v2_color,\n",
    "               ax=ax2)\n",
    "\n",
    "ax2.set_xticklabels(['Het. alt.', 'Hom. alt.'])\n",
    "\n",
    "fig.suptitle('Variants per sample: chrX PAR')\n",
    "ax1.set_ylabel('')\n",
    "ax1.set_xlabel('')\n",
    "plt.savefig(f'{figDir}/chrX.per-sample_variants.PAR.unrelated.pdf')\n",
    "plt.show()"
   ]
  }
 ],
 "metadata": {
  "kernelspec": {
   "display_name": "Python 3",
   "language": "python",
   "name": "python3"
  },
  "language_info": {
   "codemirror_mode": {
    "name": "ipython",
    "version": 3
   },
   "file_extension": ".py",
   "mimetype": "text/x-python",
   "name": "python",
   "nbconvert_exporter": "python",
   "pygments_lexer": "ipython3",
   "version": "3.7.12"
  },
  "toc": {
   "base_numbering": 1,
   "nav_menu": {},
   "number_sections": true,
   "sideBar": true,
   "skip_h1_title": false,
   "title_cell": "Table of Contents",
   "title_sidebar": "Contents",
   "toc_cell": false,
   "toc_position": {
    "height": "calc(100% - 180px)",
    "left": "10px",
    "top": "150px",
    "width": "494.656px"
   },
   "toc_section_display": true,
   "toc_window_display": true
  }
 },
 "nbformat": 4,
 "nbformat_minor": 2
}
